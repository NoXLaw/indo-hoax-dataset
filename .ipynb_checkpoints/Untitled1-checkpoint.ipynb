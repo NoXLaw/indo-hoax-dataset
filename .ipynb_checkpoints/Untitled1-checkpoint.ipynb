{
 "cells": [
  {
   "cell_type": "code",
   "execution_count": null,
   "metadata": {},
   "outputs": [],
   "source": [
    "links = open('hoax.txt','r').read().splitlines()"
   ]
  },
  {
   "cell_type": "code",
   "execution_count": null,
   "metadata": {},
   "outputs": [],
   "source": [
    "len(links)"
   ]
  },
  {
   "cell_type": "code",
   "execution_count": null,
   "metadata": {},
   "outputs": [],
   "source": [
    "df = pd.DataFrame(columns=['link', 'artikel'])"
   ]
  },
  {
   "cell_type": "markdown",
   "metadata": {},
   "source": [
    "# dataset check "
   ]
  },
  {
   "cell_type": "code",
   "execution_count": 27,
   "metadata": {},
   "outputs": [],
   "source": [
    "import pandas as pd \n",
    "\n",
    "df = pd.read_csv('eya.csv')"
   ]
  },
  {
   "cell_type": "code",
   "execution_count": null,
   "metadata": {},
   "outputs": [],
   "source": [
    "df = df.drop(df.columns[0], axis=1)"
   ]
  },
  {
   "cell_type": "code",
   "execution_count": 28,
   "metadata": {},
   "outputs": [],
   "source": [
    "p = df.p.values"
   ]
  },
  {
   "cell_type": "code",
   "execution_count": 98,
   "metadata": {},
   "outputs": [],
   "source": [
    "p_baru = {}\n",
    "for i, paragraf in enumerate(p): \n",
    "    paragraf_baru = []\n",
    "    for kata in paragraf.split(' '): \n",
    "        if kata.isascii() and '======' not in kata: \n",
    "            paragraf_baru.append(kata.lower())\n",
    "    p_baru[i]=(' '.join(paragraf_baru))"
   ]
  },
  {
   "cell_type": "code",
   "execution_count": 99,
   "metadata": {},
   "outputs": [
    {
     "name": "stdout",
     "output_type": "stream",
     "text": [
      "10\n",
      "76\n"
     ]
    }
   ],
   "source": [
    "for i, paragraf in enumerate(p): \n",
    "    if 'siksa kubur' in paragraf.lower():\n",
    "        print(i)"
   ]
  },
  {
   "cell_type": "code",
   "execution_count": 100,
   "metadata": {},
   "outputs": [
    {
     "data": {
      "text/plain": [
       "'bukan kejadian di sidoarjo, video yang dibagikan sudah diunggah sebelumnya oleh pengguna youtube dari india. selengkapnya di bagian penjelasan dan referensi. kategori konten yang salah. sumber http://bit.ly/2x6ja9n, akun faisal (facebook.com/faisal.r.milannisty), sudah dibagikan 68,948 kali per tangkapan layar dibuat. narasi : mayat baru dimasukan di liang lahat langsung terbakar padahal belum sampai ditutup papan penutup. subhanallah ya allah. dosa apakah yg dia lakukan sehingga begitu cepat engkau perlihatkan dgn orang2 yg masih hidup, makanya hukum karma berlaku . itu di perlihatkan bagi orang2 yang masih hidup , bahwa siksa kubur ada , belum lagi siksa neraka ( akhirat) . buat pelajaran bagi orang2 tang masih sehat wal afiat penjelasan (1) http://bit.ly/2rhtadc / http://bit.ly/2mxvn7s, first draft news: yang salah ketika konten yang asli dipadankan dengan konteks informasi yang (2) salah satu sumber video, http://bit.ly/2fu3dtv youtube: ka azab kamzor dil wale na dekhe kamzor dil wale na dekhe\\npublished on apr 13, sumber video lainnya, http://bit.ly/2xseqvp youtube: bangla tv nh bangla tv\\npublished on apr 2, (3) salah satu sumber video yang kedua, http://bit.ly/2fqjriq youtube: jatuh dari keranda yunus berkelana 2\\npublished on apr 23, 2019\\nasli jenazah jatuh dari lokasi kejadian memang benar di indonesia (terdengar kata-kata diangkat tetapi tidak ada hubungannya dengan video yang pertama. referensi (1) kominfo: di sidoarjo, mayat langsung terbakar di liang lahat sebelum selengkapnya di http://bit.ly/2fufnrl. (2) http://bit.ly/2fvz8i6, arsip cadangan sumber. (3) http://bit.ly/2yclgak, laporan (mention) ke akun mafindo (twitter.com/turnbackhoax).'"
      ]
     },
     "execution_count": 100,
     "metadata": {},
     "output_type": "execute_result"
    }
   ],
   "source": [
    "p_baru[76]"
   ]
  },
  {
   "cell_type": "code",
   "execution_count": 101,
   "metadata": {},
   "outputs": [
    {
     "data": {
      "text/plain": [
       "'Bukan kejadian di Sidoarjo, video yang dibagikan sudah diunggah sebelumnya oleh pengguna YouTube dari India. Selengkapnya di bagian PENJELASAN dan REFERENSI. ====== KATEGORI Konten Yang Salah. ====== SUMBER http://bit.ly/2x6Ja9N, akun “Coco Faisal Putra” (facebook.com/faisal.r.milannisty), sudah dibagikan 68,948 kali per tangkapan layar dibuat. ====== NARASI “Sidoarjo : Mayat baru dimasukan di liang lahat langsung terbakar padahal belum sampai ditutup papan penutup. Subhanallah ya Allah. Dosa apakah yg dia lakukan sehingga begitu cepat engkau perlihatkan dgn orang2 yg masih hidup, subhanallah… Makanya Hukum Karma berlaku . Itu di Perlihatkan bagi Orang2 yang masih hidup , bahwa Siksa Kubur ada , belum Lagi Siksa Neraka ( Akhirat) . Buat Pelajaran bagi Orang2 tang masih Sehat Wal ‘ Afiat .b😲😲🍑🤲🤲🍇🙏🙏”. ====== PENJELASAN (1) http://bit.ly/2rhTadC / http://bit.ly/2MxVN7S, First Draft News: “Konten yang Salah Ketika konten yang asli dipadankan dengan konteks informasi yang salah”. (2) Salah satu sumber video, http://bit.ly/2Fu3Dtv YouTube: “Qabar Ka Azab Kamzor Dil Wale Na Dekhe Kamzor Dil Wale Na Dekhe\\nPublished on Apr 13, 2019″. – Sumber video lainnya, http://bit.ly/2XseQVP YouTube: “কবরে আগুন জলে উটলো লাশ কবরে রাখার সাথে সাথে।NH BANGLA TV NH BANGLA TV\\nPublished on Apr 2, 2019\\nআসসালামুয়ালাইকুম সবাই আল্লাহকে ভয় করুন নামাজ পরুন ভিডিওটি ভালো লাগলে সাবস্ক্রাইব করুন আর বেশি বেশি সেয়ার করুন ভিডিওটি”. (3) Salah satu sumber video yang kedua, http://bit.ly/2FqJRiQ YouTube: “Jenazah Jatuh dari keranda Yunus Berkelana 2\\nPublished on Apr 23, 2019\\nAsli jenazah jatuh dari keranda”. Lokasi kejadian memang benar di Indonesia (terdengar kata-kata “Ayo diangkat yo”), tetapi tidak ada hubungannya dengan video yang pertama. ====== REFERENSI (1) Kominfo: “[DISINFORMASI] Di Sidoarjo, Mayat Langsung Terbakar di Liang Lahat Sebelum Ditutup”, selengkapnya di http://bit.ly/2FuFnrl. (2) http://bit.ly/2FvZ8i6, arsip cadangan SUMBER. (3) http://bit.ly/2YcLGak, laporan (mention) ke akun MAFINDO (twitter.com/TurnBackHoax).'"
      ]
     },
     "execution_count": 101,
     "metadata": {},
     "output_type": "execute_result"
    }
   ],
   "source": [
    "p[76]"
   ]
  },
  {
   "cell_type": "code",
   "execution_count": 79,
   "metadata": {},
   "outputs": [],
   "source": [
    "x = '😲😲🍑🤲🤲'\n",
    "x= 'berak.'"
   ]
  },
  {
   "cell_type": "code",
   "execution_count": 80,
   "metadata": {},
   "outputs": [
    {
     "data": {
      "text/plain": [
       "False"
      ]
     },
     "execution_count": 80,
     "metadata": {},
     "output_type": "execute_result"
    }
   ],
   "source": [
    "x.isalnum()"
   ]
  },
  {
   "cell_type": "code",
   "execution_count": 81,
   "metadata": {},
   "outputs": [
    {
     "data": {
      "text/plain": [
       "False"
      ]
     },
     "execution_count": 81,
     "metadata": {},
     "output_type": "execute_result"
    }
   ],
   "source": [
    "x.isalpha()"
   ]
  },
  {
   "cell_type": "code",
   "execution_count": 82,
   "metadata": {},
   "outputs": [
    {
     "data": {
      "text/plain": [
       "True"
      ]
     },
     "execution_count": 82,
     "metadata": {},
     "output_type": "execute_result"
    }
   ],
   "source": [
    "x.isascii()"
   ]
  },
  {
   "cell_type": "code",
   "execution_count": 96,
   "metadata": {},
   "outputs": [
    {
     "data": {
      "text/plain": [
       "['laporan',\n",
       " '(mention)',\n",
       " 'ke',\n",
       " 'akun',\n",
       " 'MAFINDO',\n",
       " '(twitter.com/TurnBackHoax).']"
      ]
     },
     "execution_count": 96,
     "metadata": {},
     "output_type": "execute_result"
    }
   ],
   "source": [
    "y = 'laporan (mention) ke akun MAFINDO (twitter.com/TurnBackHoax).'\n",
    "y.split()"
   ]
  },
  {
   "cell_type": "code",
   "execution_count": null,
   "metadata": {},
   "outputs": [],
   "source": []
  }
 ],
 "metadata": {
  "kernelspec": {
   "display_name": "Python 3",
   "language": "python",
   "name": "python3"
  },
  "language_info": {
   "codemirror_mode": {
    "name": "ipython",
    "version": 3
   },
   "file_extension": ".py",
   "mimetype": "text/x-python",
   "name": "python",
   "nbconvert_exporter": "python",
   "pygments_lexer": "ipython3",
   "version": "3.7.3"
  }
 },
 "nbformat": 4,
 "nbformat_minor": 4
}
